{
 "cells": [
  {
   "cell_type": "code",
   "execution_count": null,
   "metadata": {},
   "outputs": [],
   "source": [
    "# default_exp s3bz"
   ]
  },
  {
   "cell_type": "markdown",
   "metadata": {},
   "source": [
    "# S3bz\n",
    "> API details."
   ]
  },
  {
   "cell_type": "code",
   "execution_count": null,
   "metadata": {},
   "outputs": [],
   "source": [
    "#hide\n",
    "from nbdev.showdoc import *"
   ]
  },
  {
   "cell_type": "code",
   "execution_count": null,
   "metadata": {},
   "outputs": [],
   "source": [
    "#export\n",
    "from botocore.config import Config\n",
    "from nicHelper.wrappers import add_method\n",
    "import bz2, json, boto3, logging, requests"
   ]
  },
  {
   "cell_type": "code",
   "execution_count": null,
   "metadata": {},
   "outputs": [],
   "source": [
    "#export\n",
    "class S3:\n",
    "  @staticmethod\n",
    "  def s3(region = 'ap-southeast-1', user = None, pw = None, accelerate = True, **kwargs):\n",
    "    '''\n",
    "    create and return s3 client\n",
    "    '''\n",
    "    logging.info(f'using {(\"standard\",\"accelerate\")[accelerate]} endpoint')\n",
    "    config = Config(s3={\"use_accelerate_endpoint\": accelerate,\n",
    "                        \"addressing_style\": \"virtual\"})\n",
    "    s3 = boto3.client(\n",
    "        's3',\n",
    "        aws_access_key_id= user,\n",
    "        aws_secret_access_key= pw,\n",
    "        region_name = region,\n",
    "        config = config\n",
    "      )\n",
    "    return s3\n",
    "  @classmethod\n",
    "  def saveFile(cls, key, path, bucket = '', **kwargs):\n",
    "    '''save a file to s3'''\n",
    "    s3 = cls.s3(**kwargs)\n",
    "    result = s3.upload_file(path, bucket, key)\n",
    "    return result\n",
    "  @classmethod\n",
    "  def loadFile(cls, key, path, bucket = '', **kwargs):\n",
    "    '''load file from s3'''\n",
    "    s3 = cls.s3(**kwargs)\n",
    "    result = s3.download_file(bucket,key, path )\n",
    "    return result\n",
    "  @classmethod\n",
    "  def deleteFile(cls, key, bucket, **kwargs):\n",
    "    s3 = cls.s3(**kwargs)\n",
    "    result = s3.delete_object(Bucket=bucket, Key=key)\n",
    "    return result\n",
    "  \n",
    "  @classmethod\n",
    "  def save(cls,  key, objectToSave, bucket = '',**kwargs):\n",
    "    '''\n",
    "    save an object to s3\n",
    "    '''\n",
    "    s3 = cls.s3(**kwargs)\n",
    "    compressedData = bz2.compress(json.dumps(objectToSave).encode())\n",
    "    result = s3.put_object(Body=compressedData, Bucket=bucket, Key=key)\n",
    "    success = result['ResponseMetadata']['HTTPStatusCode'] ==  200\n",
    "    logging.info('data was saved to s3')\n",
    "    if not success: raise Error(success)\n",
    "    else: return True\n",
    "  @classmethod\n",
    "  def exist(cls, key, bucket, **kwargs):\n",
    "    return 'Contents' in cls.s3(**kwargs).list_objects(\n",
    "        Bucket=bucket , Prefix=key )\n",
    "  @classmethod\n",
    "  def load(cls, key, bucket='',fileName = '/tmp/tempFile.bz', **kwargs):\n",
    "    if not cls.exist(key, bucket, **kwargs):\n",
    "      logging.info('object doesnt exist')\n",
    "      return {}\n",
    "    logging.info('object exists, loading')\n",
    "    s3 = cls.s3(**kwargs)\n",
    "    s3.download_file(bucket,key, fileName )\n",
    "    with open (fileName , 'rb') as f:\n",
    "      allItemsByte = f.read()\n",
    "    if not allItemsByte: raise ValueError('all data does not exist in the database')\n",
    "    allItems = json.loads(bz2.decompress(allItemsByte).decode())\n",
    "    return allItems\n",
    "\n",
    "  @classmethod\n",
    "  def presign(cls, key, expiry = 1000, bucket = '',**kwargs):\n",
    "    if not cls.exist(key,bucket=bucket,**kwargs): return 'object doesnt exist'\n",
    "    s3 = cls.s3(**kwargs)\n",
    "    result = s3.generate_presigned_url(\n",
    "        'get_object',\n",
    "          Params={'Bucket': bucket,\n",
    "                  'Key': key},\n",
    "        ExpiresIn=expiry)\n",
    "    return result\n",
    "  @classmethod\n",
    "  def loadDataFrame(cls, bucket, key,path='/tmp/tmpfile.csv',**kwargs):\n",
    "    import pandas as pd\n",
    "    cls.loadFile(key=key, path=path,bucket=bucket, **kwargs)\n",
    "    return pd.read_csv(path)\n",
    "  @classmethod\n",
    "  def saveDataFrame(cls,bucket,key,df,path='/tmp/tmpfile.csv', **kwargs):\n",
    "    df.to_csv(path)\n",
    "    return cls.saveFile(key,path,bucket=bucket)"
   ]
  },
  {
   "cell_type": "code",
   "execution_count": null,
   "metadata": {},
   "outputs": [],
   "source": [
    "#export\n",
    "class Requests:\n",
    "    '''\n",
    "      for uploading and downloading contents from url\n",
    "    '''\n",
    "    @staticmethod\n",
    "    def getContentFromUrl( url):\n",
    "      result = requests.get(url)\n",
    "      if not result.ok:\n",
    "        print('error downloading')\n",
    "        return result.content\n",
    "      content = result.content\n",
    "      decompressedContent = bz2.decompress(content)\n",
    "      contentDict = json.loads(decompressedContent)\n",
    "      return contentDict"
   ]
  },
  {
   "cell_type": "code",
   "execution_count": null,
   "metadata": {},
   "outputs": [],
   "source": [
    "# hide\n",
    "bucket = 'pybz-test'\n",
    "key = 'test.dict'\n",
    "sampleDict = {'test': 'bool'}\n",
    "USER = None\n",
    "PW = None"
   ]
  },
  {
   "cell_type": "code",
   "execution_count": null,
   "metadata": {},
   "outputs": [
    {
     "data": {
      "text/html": [
       "<div>\n",
       "<style scoped>\n",
       "    .dataframe tbody tr th:only-of-type {\n",
       "        vertical-align: middle;\n",
       "    }\n",
       "\n",
       "    .dataframe tbody tr th {\n",
       "        vertical-align: top;\n",
       "    }\n",
       "\n",
       "    .dataframe thead th {\n",
       "        text-align: right;\n",
       "    }\n",
       "</style>\n",
       "<table border=\"1\" class=\"dataframe\">\n",
       "  <thead>\n",
       "    <tr style=\"text-align: right;\">\n",
       "      <th></th>\n",
       "      <th>Unnamed: 0</th>\n",
       "      <th>test</th>\n",
       "      <th>test2</th>\n",
       "    </tr>\n",
       "  </thead>\n",
       "  <tbody>\n",
       "    <tr>\n",
       "      <th>0</th>\n",
       "      <td>0</td>\n",
       "      <td>1</td>\n",
       "      <td>2</td>\n",
       "    </tr>\n",
       "    <tr>\n",
       "      <th>1</th>\n",
       "      <td>1</td>\n",
       "      <td>2</td>\n",
       "      <td>3</td>\n",
       "    </tr>\n",
       "    <tr>\n",
       "      <th>2</th>\n",
       "      <td>2</td>\n",
       "      <td>3</td>\n",
       "      <td>4</td>\n",
       "    </tr>\n",
       "    <tr>\n",
       "      <th>3</th>\n",
       "      <td>3</td>\n",
       "      <td>4</td>\n",
       "      <td>5</td>\n",
       "    </tr>\n",
       "    <tr>\n",
       "      <th>4</th>\n",
       "      <td>4</td>\n",
       "      <td>5</td>\n",
       "      <td>6</td>\n",
       "    </tr>\n",
       "  </tbody>\n",
       "</table>\n",
       "</div>"
      ],
      "text/plain": [
       "   Unnamed: 0  test  test2\n",
       "0           0     1      2\n",
       "1           1     2      3\n",
       "2           2     3      4\n",
       "3           3     4      5\n",
       "4           4     5      6"
      ]
     },
     "execution_count": null,
     "metadata": {},
     "output_type": "execute_result"
    }
   ],
   "source": [
    "import pandas as pd\n",
    "df = pd.DataFrame({'test':[1,2,3,4,5],'test2':[2,3,4,5,6]})\n",
    "S3.saveDataFrame(bucket,key,df)\n",
    "S3.loadDataFrame(bucket,key)\n"
   ]
  },
  {
   "cell_type": "code",
   "execution_count": null,
   "metadata": {},
   "outputs": [
    {
     "name": "stdout",
     "output_type": "stream",
     "text": [
      "Converted index.ipynb.\n",
      "Converted s3bz.ipynb.\n",
      "converting: /home/ec2-user/SageMaker/pip/s3bz/s3bz.ipynb\n",
      "converting: /home/ec2-user/SageMaker/pip/s3bz/index.ipynb\n",
      "converting /home/ec2-user/SageMaker/pip/s3bz/index.ipynb to README.md\n"
     ]
    }
   ],
   "source": [
    "#hide\n",
    "!bash build.sh\n",
    "# !nbdev_build_docs --mk_readme True"
   ]
  },
  {
   "cell_type": "code",
   "execution_count": null,
   "metadata": {},
   "outputs": [],
   "source": []
  },
  {
   "cell_type": "code",
   "execution_count": null,
   "metadata": {},
   "outputs": [],
   "source": []
  }
 ],
 "metadata": {
  "kernelspec": {
   "display_name": "python38",
   "language": "python",
   "name": "python38"
  }
 },
 "nbformat": 4,
 "nbformat_minor": 4
}
