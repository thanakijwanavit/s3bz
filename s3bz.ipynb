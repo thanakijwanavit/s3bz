{
 "cells": [
  {
   "cell_type": "code",
   "execution_count": 1,
   "metadata": {},
   "outputs": [],
   "source": [
    "# default_exp s3bz"
   ]
  },
  {
   "cell_type": "markdown",
   "metadata": {},
   "source": [
    "# S3bz\n",
    "> API details."
   ]
  },
  {
   "cell_type": "code",
   "execution_count": 2,
   "metadata": {},
   "outputs": [],
   "source": [
    "#hide\n",
    "from nbdev.showdoc import *"
   ]
  },
  {
   "cell_type": "code",
   "execution_count": 3,
   "metadata": {},
   "outputs": [],
   "source": [
    "#export\n",
    "from botocore.config import Config\n",
    "import bz2, json, boto3, logging, requests"
   ]
  },
  {
   "cell_type": "code",
   "execution_count": 4,
   "metadata": {},
   "outputs": [],
   "source": [
    "#export\n",
    "class S3:\n",
    "  @staticmethod\n",
    "  def s3(region = 'ap-southeast-1', user = None, pw = None, accelerate = True, **kwargs):\n",
    "    '''\n",
    "    create and return s3 client\n",
    "    '''\n",
    "    logging.info(f'using {(\"standard\",\"accelerate\")[accelerate]} endpoint')\n",
    "    config = Config(s3={\"use_accelerate_endpoint\": accelerate,\n",
    "                        \"addressing_style\": \"virtual\"})\n",
    "    s3 = boto3.client(\n",
    "        's3',\n",
    "        aws_access_key_id= user,\n",
    "        aws_secret_access_key= pw,\n",
    "        region_name = region,\n",
    "        config = config\n",
    "      )\n",
    "    return s3\n",
    "  @classmethod\n",
    "  def save(cls,  key, objectToSave, bucket = '',**kwargs):\n",
    "    '''\n",
    "    save an object to s3\n",
    "    '''\n",
    "    s3 = cls.s3(**kwargs)\n",
    "    compressedData = bz2.compress(json.dumps(objectToSave).encode())\n",
    "    result = s3.put_object(Body=compressedData, Bucket=bucket, Key=key)\n",
    "    success = result['ResponseMetadata']['HTTPStatusCode'] ==  200\n",
    "    logging.info('data was saved to s3')\n",
    "    if not success: raise Error(success)\n",
    "    else: return True\n",
    "  @classmethod\n",
    "  def exist(cls, key, bucket, **kwargs):\n",
    "    return 'Contents' in cls.s3(**kwargs).list_objects(\n",
    "        Bucket=bucket , Prefix=key )\n",
    "  @classmethod\n",
    "  def load(cls, key, bucket='', **kwargs):\n",
    "    if not cls.exist(key, bucket, **kwargs):\n",
    "      logging.info('object doesnt exist')\n",
    "      return {}\n",
    "    logging.info('object exists, loading')\n",
    "    s3 = cls.s3(**kwargs)\n",
    "    requestResult =  s3.get_object(\n",
    "                  Bucket = bucket,\n",
    "                  Key = key\n",
    "                )\n",
    "    allItemsByte = next(requestResult.get('Body',None))\n",
    "    if not allItemsByte: raise ValueError('all data does not exist in the database')\n",
    "    allItems = json.loads(bz2.decompress(allItemsByte).decode())\n",
    "    return allItems\n",
    "\n",
    "  @classmethod\n",
    "  def presign(cls, key, expiry = 1000, bucket = '',**kwargs):\n",
    "    if not cls.exist(key,bucket=bucket,**kwargs): return 'object doesnt exist'\n",
    "    s3 = cls.s3(**kwargs)\n",
    "    result = s3.generate_presigned_url(\n",
    "        'get_object',\n",
    "          Params={'Bucket': bucket,\n",
    "                  'Key': key},\n",
    "        ExpiresIn=expiry)\n",
    "    return result"
   ]
  },
  {
   "cell_type": "code",
   "execution_count": 5,
   "metadata": {},
   "outputs": [],
   "source": [
    "#export\n",
    "class Requests:\n",
    "    '''\n",
    "      for uploading and downloading contents from url\n",
    "    '''\n",
    "    @staticmethod\n",
    "    def getContentFromUrl( url):\n",
    "      result = requests.get(url)\n",
    "      if not result.ok:\n",
    "        print('error downloading')\n",
    "        return result.content\n",
    "      content = result.content\n",
    "      decompressedContent = bz2.decompress(content)\n",
    "      contentDict = json.loads(decompressedContent)\n",
    "      return contentDict"
   ]
  },
  {
   "cell_type": "code",
   "execution_count": 6,
   "metadata": {},
   "outputs": [
    {
     "name": "stdout",
     "output_type": "stream",
     "text": [
      "Converted index.ipynb.\n",
      "Converted s3bz.ipynb.\n"
     ]
    }
   ],
   "source": [
    "#hide\n",
    "from nbdev.export import *\n",
    "notebook2script()"
   ]
  },
  {
   "cell_type": "code",
   "execution_count": 8,
   "metadata": {},
   "outputs": [
    {
     "name": "stdout",
     "output_type": "stream",
     "text": [
      "Converted index.ipynb.\n",
      "Converted s3bz.ipynb.\n",
      "converting: /Users/nic/pip/s3bz/s3bz.ipynb\n",
      "converting: /Users/nic/pip/s3bz/index.ipynb\n",
      "An error occurred while executing the following cell:\n",
      "------------------\n",
      "from s3bz.s3bz import Requests\n",
      "result = Requests.getContentFromUrl(url)\n",
      "# import bz2, json\n",
      "# r = requests.get(url)\n",
      "# result = json.loads(bz2.decompress(r.content).decode())\n",
      "# print(f'result is {result}')\n",
      "------------------\n",
      "\n",
      "\u001b[0;31m---------------------------------------------------------------------------\u001b[0m\n",
      "\u001b[0;31mNameError\u001b[0m                                 Traceback (most recent call last)\n",
      "\u001b[0;32m<ipython-input-2-7011f26f1424>\u001b[0m in \u001b[0;36m<module>\u001b[0;34m\u001b[0m\n",
      "\u001b[1;32m      1\u001b[0m \u001b[0;32mfrom\u001b[0m \u001b[0ms3bz\u001b[0m\u001b[0;34m.\u001b[0m\u001b[0ms3bz\u001b[0m \u001b[0;32mimport\u001b[0m \u001b[0mRequests\u001b[0m\u001b[0;34m\u001b[0m\u001b[0;34m\u001b[0m\u001b[0m\n",
      "\u001b[0;32m----> 2\u001b[0;31m \u001b[0mresult\u001b[0m \u001b[0;34m=\u001b[0m \u001b[0mRequests\u001b[0m\u001b[0;34m.\u001b[0m\u001b[0mgetContentFromUrl\u001b[0m\u001b[0;34m(\u001b[0m\u001b[0murl\u001b[0m\u001b[0;34m)\u001b[0m\u001b[0;34m\u001b[0m\u001b[0;34m\u001b[0m\u001b[0m\n",
      "\u001b[0m\u001b[1;32m      3\u001b[0m \u001b[0;31m# import bz2, json\u001b[0m\u001b[0;34m\u001b[0m\u001b[0;34m\u001b[0m\u001b[0;34m\u001b[0m\u001b[0m\n",
      "\u001b[1;32m      4\u001b[0m \u001b[0;31m# r = requests.get(url)\u001b[0m\u001b[0;34m\u001b[0m\u001b[0;34m\u001b[0m\u001b[0;34m\u001b[0m\u001b[0m\n",
      "\u001b[1;32m      5\u001b[0m \u001b[0;31m# result = json.loads(bz2.decompress(r.content).decode())\u001b[0m\u001b[0;34m\u001b[0m\u001b[0;34m\u001b[0m\u001b[0;34m\u001b[0m\u001b[0m\n",
      "\n",
      "\u001b[0;31mNameError\u001b[0m: name 'url' is not defined\n",
      "NameError: name 'url' is not defined\n",
      "\n",
      "Conversion failed on the following:\n",
      "index.ipynb\n",
      "converting /Users/nic/pip/s3bz/index.ipynb to README.md\n"
     ]
    }
   ],
   "source": [
    "#hide\n",
    "!nbdev_build_lib\n",
    "!nbdev_build_docs --mk_readme True"
   ]
  },
  {
   "cell_type": "code",
   "execution_count": null,
   "metadata": {},
   "outputs": [],
   "source": []
  },
  {
   "cell_type": "code",
   "execution_count": null,
   "metadata": {},
   "outputs": [],
   "source": []
  }
 ],
 "metadata": {
  "kernelspec": {
   "display_name": "Python 3",
   "language": "python",
   "name": "python3"
  },
  "language_info": {
   "codemirror_mode": {
    "name": "ipython",
    "version": 3
   },
   "file_extension": ".py",
   "mimetype": "text/x-python",
   "name": "python",
   "nbconvert_exporter": "python",
   "pygments_lexer": "ipython3",
   "version": "3.8.1"
  }
 },
 "nbformat": 4,
 "nbformat_minor": 2
}
